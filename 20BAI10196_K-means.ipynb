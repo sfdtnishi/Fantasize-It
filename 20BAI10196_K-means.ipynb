{
 "cells": [
  {
   "cell_type": "code",
   "execution_count": 2,
   "metadata": {},
   "outputs": [],
   "source": [
    "import pandas as pd\n",
    "from pandas import read_csv\n",
    "import numpy as np\n",
    "import seaborn as sns\n",
    "import matplotlib.pyplot as plt"
   ]
  },
  {
   "cell_type": "code",
   "execution_count": 3,
   "metadata": {},
   "outputs": [],
   "source": [
    "# loaded a numerical dataset\n",
    "df = read_csv(\"mobile_prices.csv\")"
   ]
  },
  {
   "cell_type": "code",
   "execution_count": 4,
   "metadata": {},
   "outputs": [
    {
     "data": {
      "text/plain": [
       "array([[1.25020934e+03, 4.75247525e-01, 1.53663366e+00, 4.89391796e-01,\n",
       "        4.19236209e+00, 5.13437058e-01, 3.15940594e+01, 5.04809052e-01,\n",
       "        1.40830269e+02, 4.46110325e+00, 9.66336634e+00, 6.57007072e+02,\n",
       "        1.25880764e+03, 9.09458274e+02, 1.23026874e+01, 5.59971711e+00,\n",
       "        1.08684583e+01, 7.39745403e-01, 5.17680339e-01, 4.90806223e-01,\n",
       "        3.30975955e-01],\n",
       "       [1.22050731e+03, 5.01461988e-01, 1.51769006e+00, 4.98538012e-01,\n",
       "        4.36842105e+00, 5.23391813e-01, 3.16973684e+01, 4.99853801e-01,\n",
       "        1.38900585e+02, 4.59941520e+00, 1.01067251e+01, 6.41115497e+02,\n",
       "        1.23309649e+03, 2.21339766e+03, 1.23114035e+01, 5.85964912e+00,\n",
       "        1.11929825e+01, 7.86549708e-01, 4.97076023e-01, 5.07309942e-01,\n",
       "        1.59356725e+00],\n",
       "       [1.24517570e+03, 5.10673235e-01, 1.51067323e+00, 5.45155993e-01,\n",
       "        4.37931034e+00, 5.28735632e-01, 3.29638752e+01, 5.00328407e-01,\n",
       "        1.41088670e+02, 4.50082102e+00, 9.99671593e+00, 6.35778325e+02,\n",
       "        1.26373727e+03, 3.43427750e+03, 1.23054187e+01, 5.85714286e+00,\n",
       "        1.09720854e+01, 7.58620690e-01, 4.92610837e-01, 5.25451560e-01,\n",
       "        2.75205255e+00]])"
      ]
     },
     "execution_count": 4,
     "metadata": {},
     "output_type": "execute_result"
    }
   ],
   "source": [
    "#divided the dataset into 3 clusters\n",
    "from sklearn.cluster import KMeans\n",
    "kmeans=KMeans(n_clusters=3, random_state=0)\n",
    "kmeans.fit(df)\n",
    "kmeans.cluster_centers_"
   ]
  },
  {
   "cell_type": "code",
   "execution_count": 5,
   "metadata": {},
   "outputs": [
    {
     "name": "stdout",
     "output_type": "stream",
     "text": [
      "Result: 929 out of 1902 samples were correctly labeled\n"
     ]
    }
   ],
   "source": [
    "#finding the performance\n",
    "y= np.array(df['price_range'])\n",
    "labels = kmeans.labels_\n",
    "correct_labels = sum(y == labels)\n",
    "print(\"Result: %d out of %d samples were correctly labeled\" %(correct_labels, sum(labels)))"
   ]
  },
  {
   "cell_type": "code",
   "execution_count": 6,
   "metadata": {},
   "outputs": [
    {
     "data": {
      "text/plain": [
       "array([1, 1, 1, ..., 2, 0, 2])"
      ]
     },
     "execution_count": 6,
     "metadata": {},
     "output_type": "execute_result"
    }
   ],
   "source": [
    "labels"
   ]
  },
  {
   "cell_type": "code",
   "execution_count": null,
   "metadata": {},
   "outputs": [],
   "source": []
  }
 ],
 "metadata": {
  "kernelspec": {
   "display_name": "Python 3",
   "language": "python",
   "name": "python3"
  },
  "language_info": {
   "codemirror_mode": {
    "name": "ipython",
    "version": 3
   },
   "file_extension": ".py",
   "mimetype": "text/x-python",
   "name": "python",
   "nbconvert_exporter": "python",
   "pygments_lexer": "ipython3",
   "version": "3.8.5"
  }
 },
 "nbformat": 4,
 "nbformat_minor": 4
}
